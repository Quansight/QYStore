{
 "cells": [
  {
   "cell_type": "code",
   "execution_count": 1,
   "id": "e83ecd4d-6458-4dca-a9a1-7fb8186b7334",
   "metadata": {
    "execution": {
     "iopub.execute_input": "2025-05-20T08:15:35.984366Z",
     "iopub.status.busy": "2025-05-20T08:15:35.983951Z",
     "iopub.status.idle": "2025-05-20T08:15:35.987887Z",
     "shell.execute_reply": "2025-05-20T08:15:35.987315Z",
     "shell.execute_reply.started": "2025-05-20T08:15:35.984336Z"
    }
   },
   "outputs": [
    {
     "name": "stdout",
     "output_type": "stream",
     "text": [
      "Hello\n"
     ]
    }
   ],
   "source": [
    "print(\"Hello\")"
   ]
  },
  {
   "cell_type": "code",
   "execution_count": 1,
   "id": "7a566f3b-f6b4-4d48-af62-8c4101d69270",
   "metadata": {
    "execution": {
     "iopub.execute_input": "2025-05-20T08:20:18.643901Z",
     "iopub.status.busy": "2025-05-20T08:20:18.643179Z",
     "iopub.status.idle": "2025-05-20T08:20:18.649027Z",
     "shell.execute_reply": "2025-05-20T08:20:18.648526Z",
     "shell.execute_reply.started": "2025-05-20T08:20:18.643837Z"
    }
   },
   "outputs": [
    {
     "name": "stdout",
     "output_type": "stream",
     "text": [
      "Hello world\n"
     ]
    }
   ],
   "source": [
    "print(\"Hello world\")"
   ]
  },
  {
   "cell_type": "code",
   "execution_count": 1,
   "id": "b5ff8237-20d2-4024-b196-32116bced1ec",
   "metadata": {
    "execution": {
     "iopub.execute_input": "2025-05-20T08:28:37.856553Z",
     "iopub.status.busy": "2025-05-20T08:28:37.856290Z",
     "iopub.status.idle": "2025-05-20T08:28:37.860290Z",
     "shell.execute_reply": "2025-05-20T08:28:37.859574Z",
     "shell.execute_reply.started": "2025-05-20T08:28:37.856529Z"
    }
   },
   "outputs": [
    {
     "name": "stdout",
     "output_type": "stream",
     "text": [
      "Hello world\n"
     ]
    }
   ],
   "source": [
    "print(\"Hello world\")"
   ]
  },
  {
   "cell_type": "code",
   "execution_count": 1,
   "id": "11afe061-85a6-489d-96ca-1e10e9eb16b8",
   "metadata": {
    "execution": {
     "iopub.execute_input": "2025-05-20T08:33:39.948284Z",
     "iopub.status.busy": "2025-05-20T08:33:39.947739Z",
     "iopub.status.idle": "2025-05-20T08:33:39.952308Z",
     "shell.execute_reply": "2025-05-20T08:33:39.951548Z",
     "shell.execute_reply.started": "2025-05-20T08:33:39.948252Z"
    }
   },
   "outputs": [
    {
     "name": "stdout",
     "output_type": "stream",
     "text": [
      "Hello, World\n"
     ]
    }
   ],
   "source": [
    "print(\"Hello, World\")"
   ]
  },
  {
   "cell_type": "code",
   "execution_count": 2,
   "id": "aba4cb48-68fa-4438-9e78-c767c22620a6",
   "metadata": {
    "execution": {
     "iopub.execute_input": "2025-05-20T08:34:09.246501Z",
     "iopub.status.busy": "2025-05-20T08:34:09.246239Z",
     "iopub.status.idle": "2025-05-20T08:34:09.251317Z",
     "shell.execute_reply": "2025-05-20T08:34:09.250709Z",
     "shell.execute_reply.started": "2025-05-20T08:34:09.246479Z"
    }
   },
   "outputs": [
    {
     "name": "stdout",
     "output_type": "stream",
     "text": [
      "Hello World\n"
     ]
    }
   ],
   "source": [
    "print(\"Hello World\")p"
   ]
  },
  {
   "cell_type": "code",
   "execution_count": null,
   "id": "5dbe6699-8884-446c-9de2-2860811d209e",
   "metadata": {},
   "outputs": [],
   "source": [
    "p"
   ]
  }
 ],
 "metadata": {
  "kernelspec": {
   "display_name": "Python 3 (ipykernel)",
   "language": "python",
   "name": "python3"
  },
  "language_info": {
   "codemirror_mode": {
    "name": "ipython",
    "version": 3
   },
   "file_extension": ".py",
   "mimetype": "text/x-python",
   "name": "python",
   "nbconvert_exporter": "python",
   "pygments_lexer": "ipython3",
   "version": "3.13.3"
  }
 },
 "nbformat": 4,
 "nbformat_minor": 5
}
